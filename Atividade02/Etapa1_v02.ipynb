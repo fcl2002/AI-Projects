{
 "cells": [
  {
   "cell_type": "markdown",
   "metadata": {},
   "source": [
    "# Etapa 1 - Ajustada (v02)"
   ]
  },
  {
   "cell_type": "code",
   "execution_count": 2,
   "metadata": {},
   "outputs": [
    {
     "name": "stdout",
     "output_type": "stream",
     "text": [
      "linhas, colunas): (167053, 6)\n"
     ]
    },
    {
     "data": {
      "text/html": [
       "<div>\n",
       "<style scoped>\n",
       "    .dataframe tbody tr th:only-of-type {\n",
       "        vertical-align: middle;\n",
       "    }\n",
       "\n",
       "    .dataframe tbody tr th {\n",
       "        vertical-align: top;\n",
       "    }\n",
       "\n",
       "    .dataframe thead th {\n",
       "        text-align: right;\n",
       "    }\n",
       "</style>\n",
       "<table border=\"1\" class=\"dataframe\">\n",
       "  <thead>\n",
       "    <tr style=\"text-align: right;\">\n",
       "      <th></th>\n",
       "      <th>title</th>\n",
       "      <th>text</th>\n",
       "      <th>date</th>\n",
       "      <th>category</th>\n",
       "      <th>subcategory</th>\n",
       "      <th>link</th>\n",
       "    </tr>\n",
       "  </thead>\n",
       "  <tbody>\n",
       "    <tr>\n",
       "      <th>0</th>\n",
       "      <td>Lula diz que está 'lascado', mas que ainda tem...</td>\n",
       "      <td>Com a possibilidade de uma condenação impedir ...</td>\n",
       "      <td>2017-09-10</td>\n",
       "      <td>poder</td>\n",
       "      <td>NaN</td>\n",
       "      <td>http://www1.folha.uol.com.br/poder/2017/10/192...</td>\n",
       "    </tr>\n",
       "    <tr>\n",
       "      <th>1</th>\n",
       "      <td>'Decidi ser escrava das mulheres que sofrem', ...</td>\n",
       "      <td>Para Oumou Sangaré, cantora e ativista malines...</td>\n",
       "      <td>2017-09-10</td>\n",
       "      <td>ilustrada</td>\n",
       "      <td>NaN</td>\n",
       "      <td>http://www1.folha.uol.com.br/ilustrada/2017/10...</td>\n",
       "    </tr>\n",
       "    <tr>\n",
       "      <th>2</th>\n",
       "      <td>Três reportagens da Folha ganham Prêmio Petrob...</td>\n",
       "      <td>Três reportagens da Folha foram vencedoras do ...</td>\n",
       "      <td>2017-09-10</td>\n",
       "      <td>poder</td>\n",
       "      <td>NaN</td>\n",
       "      <td>http://www1.folha.uol.com.br/poder/2017/10/192...</td>\n",
       "    </tr>\n",
       "    <tr>\n",
       "      <th>3</th>\n",
       "      <td>Filme 'Star Wars: Os Últimos Jedi' ganha trail...</td>\n",
       "      <td>A Disney divulgou na noite desta segunda-feira...</td>\n",
       "      <td>2017-09-10</td>\n",
       "      <td>ilustrada</td>\n",
       "      <td>NaN</td>\n",
       "      <td>http://www1.folha.uol.com.br/ilustrada/2017/10...</td>\n",
       "    </tr>\n",
       "    <tr>\n",
       "      <th>4</th>\n",
       "      <td>CBSS inicia acordos com fintechs e quer 30% do...</td>\n",
       "      <td>O CBSS, banco da holding Elopar dos sócios Bra...</td>\n",
       "      <td>2017-09-10</td>\n",
       "      <td>mercado</td>\n",
       "      <td>NaN</td>\n",
       "      <td>http://www1.folha.uol.com.br/mercado/2017/10/1...</td>\n",
       "    </tr>\n",
       "  </tbody>\n",
       "</table>\n",
       "</div>"
      ],
      "text/plain": [
       "                                               title  \\\n",
       "0  Lula diz que está 'lascado', mas que ainda tem...   \n",
       "1  'Decidi ser escrava das mulheres que sofrem', ...   \n",
       "2  Três reportagens da Folha ganham Prêmio Petrob...   \n",
       "3  Filme 'Star Wars: Os Últimos Jedi' ganha trail...   \n",
       "4  CBSS inicia acordos com fintechs e quer 30% do...   \n",
       "\n",
       "                                                text        date   category  \\\n",
       "0  Com a possibilidade de uma condenação impedir ...  2017-09-10      poder   \n",
       "1  Para Oumou Sangaré, cantora e ativista malines...  2017-09-10  ilustrada   \n",
       "2  Três reportagens da Folha foram vencedoras do ...  2017-09-10      poder   \n",
       "3  A Disney divulgou na noite desta segunda-feira...  2017-09-10  ilustrada   \n",
       "4  O CBSS, banco da holding Elopar dos sócios Bra...  2017-09-10    mercado   \n",
       "\n",
       "  subcategory                                               link  \n",
       "0         NaN  http://www1.folha.uol.com.br/poder/2017/10/192...  \n",
       "1         NaN  http://www1.folha.uol.com.br/ilustrada/2017/10...  \n",
       "2         NaN  http://www1.folha.uol.com.br/poder/2017/10/192...  \n",
       "3         NaN  http://www1.folha.uol.com.br/ilustrada/2017/10...  \n",
       "4         NaN  http://www1.folha.uol.com.br/mercado/2017/10/1...  "
      ]
     },
     "execution_count": 2,
     "metadata": {},
     "output_type": "execute_result"
    }
   ],
   "source": [
    "import pandas as pd\n",
    "\n",
    "df = pd.read_csv('dataset/articles.csv', encoding='utf8')\n",
    "print('linhas, colunas):', df.shape)\n",
    "\n",
    "df.head()"
   ]
  },
  {
   "cell_type": "markdown",
   "metadata": {},
   "source": [
    "### Ajustando Dataset para aprendizado"
   ]
  },
  {
   "cell_type": "code",
   "execution_count": 3,
   "metadata": {},
   "outputs": [
    {
     "name": "stdout",
     "output_type": "stream",
     "text": [
      "Linhas: 167053\n",
      "Removendo duplicadas em \"text\": 165902\n",
      "Removendo subcategoria\n",
      "Removendo nulos: 165901\n",
      "Resetando index\n"
     ]
    },
    {
     "data": {
      "text/html": [
       "<div>\n",
       "<style scoped>\n",
       "    .dataframe tbody tr th:only-of-type {\n",
       "        vertical-align: middle;\n",
       "    }\n",
       "\n",
       "    .dataframe tbody tr th {\n",
       "        vertical-align: top;\n",
       "    }\n",
       "\n",
       "    .dataframe thead th {\n",
       "        text-align: right;\n",
       "    }\n",
       "</style>\n",
       "<table border=\"1\" class=\"dataframe\">\n",
       "  <thead>\n",
       "    <tr style=\"text-align: right;\">\n",
       "      <th></th>\n",
       "      <th>title</th>\n",
       "      <th>text</th>\n",
       "      <th>category</th>\n",
       "    </tr>\n",
       "  </thead>\n",
       "  <tbody>\n",
       "    <tr>\n",
       "      <th>0</th>\n",
       "      <td>Lula diz que está 'lascado', mas que ainda tem...</td>\n",
       "      <td>Com a possibilidade de uma condenação impedir ...</td>\n",
       "      <td>poder</td>\n",
       "    </tr>\n",
       "    <tr>\n",
       "      <th>1</th>\n",
       "      <td>'Decidi ser escrava das mulheres que sofrem', ...</td>\n",
       "      <td>Para Oumou Sangaré, cantora e ativista malines...</td>\n",
       "      <td>ilustrada</td>\n",
       "    </tr>\n",
       "    <tr>\n",
       "      <th>2</th>\n",
       "      <td>Três reportagens da Folha ganham Prêmio Petrob...</td>\n",
       "      <td>Três reportagens da Folha foram vencedoras do ...</td>\n",
       "      <td>poder</td>\n",
       "    </tr>\n",
       "    <tr>\n",
       "      <th>3</th>\n",
       "      <td>Filme 'Star Wars: Os Últimos Jedi' ganha trail...</td>\n",
       "      <td>A Disney divulgou na noite desta segunda-feira...</td>\n",
       "      <td>ilustrada</td>\n",
       "    </tr>\n",
       "    <tr>\n",
       "      <th>4</th>\n",
       "      <td>CBSS inicia acordos com fintechs e quer 30% do...</td>\n",
       "      <td>O CBSS, banco da holding Elopar dos sócios Bra...</td>\n",
       "      <td>mercado</td>\n",
       "    </tr>\n",
       "  </tbody>\n",
       "</table>\n",
       "</div>"
      ],
      "text/plain": [
       "                                               title  \\\n",
       "0  Lula diz que está 'lascado', mas que ainda tem...   \n",
       "1  'Decidi ser escrava das mulheres que sofrem', ...   \n",
       "2  Três reportagens da Folha ganham Prêmio Petrob...   \n",
       "3  Filme 'Star Wars: Os Últimos Jedi' ganha trail...   \n",
       "4  CBSS inicia acordos com fintechs e quer 30% do...   \n",
       "\n",
       "                                                text   category  \n",
       "0  Com a possibilidade de uma condenação impedir ...      poder  \n",
       "1  Para Oumou Sangaré, cantora e ativista malines...  ilustrada  \n",
       "2  Três reportagens da Folha foram vencedoras do ...      poder  \n",
       "3  A Disney divulgou na noite desta segunda-feira...  ilustrada  \n",
       "4  O CBSS, banco da holding Elopar dos sócios Bra...    mercado  "
      ]
     },
     "execution_count": 3,
     "metadata": {},
     "output_type": "execute_result"
    }
   ],
   "source": [
    "print('Linhas:', len(df))\n",
    "\n",
    "df.drop_duplicates(subset=['text'], inplace=True)\n",
    "print('Removendo duplicadas em \"text\":', len(df))\n",
    "\n",
    "df.drop(['subcategory', 'link', 'date'], axis=1, inplace=True)\n",
    "print('Removendo subcategoria')\n",
    "\n",
    "df.dropna(inplace=True)\n",
    "print('Removendo nulos:', len(df))\n",
    "\n",
    "df.reset_index(drop=True, inplace=True)\n",
    "print('Resetando index')\n",
    "\n",
    "df.head()"
   ]
  },
  {
   "cell_type": "markdown",
   "metadata": {},
   "source": [
    "### Conversão de 'categorias' em campos categorizados"
   ]
  },
  {
   "cell_type": "code",
   "execution_count": 4,
   "metadata": {},
   "outputs": [
    {
     "data": {
      "text/plain": [
       "category\n",
       "poder                           22005\n",
       "colunas                         21499\n",
       "mercado                         20936\n",
       "esporte                         19723\n",
       "mundo                           17123\n",
       "cotidiano                       16952\n",
       "ilustrada                       15604\n",
       "opiniao                          4523\n",
       "paineldoleitor                   4008\n",
       "saopaulo                         3953\n",
       "tec                              2205\n",
       "educacao                         2113\n",
       "tv                               2065\n",
       "turismo                          1902\n",
       "ilustrissima                     1377\n",
       "ciencia                          1331\n",
       "equilibrioesaude                 1311\n",
       "sobretudo                        1052\n",
       "bbc                               979\n",
       "folhinha                          875\n",
       "empreendedorsocial                841\n",
       "comida                            828\n",
       "asmais                            547\n",
       "ambiente                          490\n",
       "seminariosfolha                   378\n",
       "serafina                          331\n",
       "o-melhor-de-sao-paulo             189\n",
       "vice                              146\n",
       "guia-de-livros-discos-filmes      143\n",
       "topofmind                          85\n",
       "banco-de-dados                     64\n",
       "dw                                 48\n",
       "especial                           43\n",
       "cenarios-2017                      43\n",
       "infograficos                       40\n",
       "rfi                                29\n",
       "guia-de-livros-filmes-discos       28\n",
       "multimidia                         26\n",
       "treinamento                        21\n",
       "treinamentocienciaesaude           18\n",
       "mulher                             15\n",
       "euronews                            8\n",
       "ombudsman                           3\n",
       "bichos                              1\n",
       "Name: count, dtype: int64"
      ]
     },
     "execution_count": 4,
     "metadata": {},
     "output_type": "execute_result"
    }
   ],
   "source": [
    "# conversão de 'categorias' para campos categorizados\n",
    "df['category'].value_counts()"
   ]
  },
  {
   "cell_type": "code",
   "execution_count": 5,
   "metadata": {},
   "outputs": [
    {
     "data": {
      "text/plain": [
       "[(0, 'ambiente'),\n",
       " (1, 'asmais'),\n",
       " (2, 'banco-de-dados'),\n",
       " (3, 'bbc'),\n",
       " (4, 'bichos'),\n",
       " (5, 'cenarios-2017'),\n",
       " (6, 'ciencia'),\n",
       " (7, 'colunas'),\n",
       " (8, 'comida'),\n",
       " (9, 'cotidiano'),\n",
       " (10, 'dw'),\n",
       " (11, 'educacao'),\n",
       " (12, 'empreendedorsocial'),\n",
       " (13, 'equilibrioesaude'),\n",
       " (14, 'especial'),\n",
       " (15, 'esporte'),\n",
       " (16, 'euronews'),\n",
       " (17, 'folhinha'),\n",
       " (18, 'guia-de-livros-filmes-discos'),\n",
       " (19, 'ilustrada'),\n",
       " (20, 'ilustrissima'),\n",
       " (21, 'infograficos'),\n",
       " (22, 'mercado'),\n",
       " (23, 'mulher'),\n",
       " (24, 'multimidia'),\n",
       " (25, 'mundo'),\n",
       " (26, 'o-melhor-de-sao-paulo'),\n",
       " (27, 'ombudsman'),\n",
       " (28, 'opiniao'),\n",
       " (29, 'paineldoleitor'),\n",
       " (30, 'poder'),\n",
       " (31, 'rfi'),\n",
       " (32, 'saopaulo'),\n",
       " (33, 'seminariosfolha'),\n",
       " (34, 'serafina'),\n",
       " (35, 'sobretudo'),\n",
       " (36, 'tec'),\n",
       " (37, 'topofmind'),\n",
       " (38, 'treinamento'),\n",
       " (39, 'treinamentocienciaesaude'),\n",
       " (40, 'turismo'),\n",
       " (41, 'tv'),\n",
       " (42, 'vice')]"
      ]
     },
     "execution_count": 5,
     "metadata": {},
     "output_type": "execute_result"
    }
   ],
   "source": [
    "df['category'] = df['category'].replace('guia-de-livros-discos-filmes', 'guia-de-livros-filmes-discos')\n",
    "alvo, valores = pd.factorize(df['category'], sort=True)\n",
    "df['target'] = alvo\n",
    "list(enumerate(valores))"
   ]
  },
  {
   "cell_type": "markdown",
   "metadata": {},
   "source": [
    "### Realizando treinamento com SKLearn ML Clássico"
   ]
  },
  {
   "cell_type": "code",
   "execution_count": 6,
   "metadata": {},
   "outputs": [
    {
     "name": "stdout",
     "output_type": "stream",
     "text": [
      "X: (165901, 342236)\n"
     ]
    }
   ],
   "source": [
    "from sklearn.feature_extraction.text import CountVectorizer\n",
    "from sklearn.feature_extraction.text import TfidfTransformer\n",
    "\n",
    "cVec = CountVectorizer()\n",
    "X = cVec.fit_transform(df['text'].values)\n",
    "\n",
    "tfid = TfidfTransformer()\n",
    "X = tfid.fit_transform(X)\n",
    "print('X:',X.shape)\n",
    "\n",
    "y = df['target'].values"
   ]
  },
  {
   "cell_type": "code",
   "execution_count": 7,
   "metadata": {},
   "outputs": [
    {
     "data": {
      "application/vnd.jupyter.widget-view+json": {
       "model_id": "db034a09e802497490253e079d43fb4e",
       "version_major": 2,
       "version_minor": 0
      },
      "text/plain": [
       "  0%|          | 0/3 [00:00<?, ?it/s]"
      ]
     },
     "metadata": {},
     "output_type": "display_data"
    }
   ],
   "source": [
    "from sklearn.naive_bayes import MultinomialNB\n",
    "from sklearn.linear_model import SGDClassifier, RidgeClassifier\n",
    "\n",
    "classificador = [\n",
    "    MultinomialNB(),\n",
    "    SGDClassifier(),\n",
    "    RidgeClassifier()\n",
    "]\n",
    "\n",
    "import warnings\n",
    "from tqdm.notebook import tqdm\n",
    "from sklearn.model_selection import train_test_split\n",
    "from sklearn.metrics import f1_score, accuracy_score, balanced_accuracy_score\n",
    "\n",
    "warnings.filterwarnings('ignore')\n",
    "\n",
    "X_train, X_test, y_train, y_test = train_test_split(X, y, test_size=0.2, random_state=42)\n",
    "\n",
    "res = []\n",
    "for c in tqdm(classificador):\n",
    "  c.fit(X_train, y_train)\n",
    "  y_pred = c.predict(X_test)\n",
    "\n",
    "  dn = {\n",
    "      'metodo':c.__class__.__name__,\n",
    "      'acurárica':accuracy_score(y_test, y_pred),\n",
    "      'bal_acc':balanced_accuracy_score(y_test, y_pred),\n",
    "      'f1':f1_score(y_test, y_pred,average='macro'),\n",
    "  }\n",
    "  res.append(dn)\n",
    "\n",
    "rdf = pd.DataFrame(res)\n",
    "\n",
    "warnings.filterwarnings('default')"
   ]
  },
  {
   "cell_type": "code",
   "execution_count": 8,
   "metadata": {},
   "outputs": [
    {
     "data": {
      "text/html": [
       "<div>\n",
       "<style scoped>\n",
       "    .dataframe tbody tr th:only-of-type {\n",
       "        vertical-align: middle;\n",
       "    }\n",
       "\n",
       "    .dataframe tbody tr th {\n",
       "        vertical-align: top;\n",
       "    }\n",
       "\n",
       "    .dataframe thead th {\n",
       "        text-align: right;\n",
       "    }\n",
       "</style>\n",
       "<table border=\"1\" class=\"dataframe\">\n",
       "  <thead>\n",
       "    <tr style=\"text-align: right;\">\n",
       "      <th></th>\n",
       "      <th>metodo</th>\n",
       "      <th>acurárica</th>\n",
       "      <th>bal_acc</th>\n",
       "      <th>f1</th>\n",
       "    </tr>\n",
       "  </thead>\n",
       "  <tbody>\n",
       "    <tr>\n",
       "      <th>0</th>\n",
       "      <td>MultinomialNB</td>\n",
       "      <td>0.643893</td>\n",
       "      <td>0.137882</td>\n",
       "      <td>0.134050</td>\n",
       "    </tr>\n",
       "    <tr>\n",
       "      <th>1</th>\n",
       "      <td>SGDClassifier</td>\n",
       "      <td>0.812393</td>\n",
       "      <td>0.336234</td>\n",
       "      <td>0.359898</td>\n",
       "    </tr>\n",
       "    <tr>\n",
       "      <th>2</th>\n",
       "      <td>RidgeClassifier</td>\n",
       "      <td>0.850577</td>\n",
       "      <td>0.390959</td>\n",
       "      <td>0.419633</td>\n",
       "    </tr>\n",
       "  </tbody>\n",
       "</table>\n",
       "</div>"
      ],
      "text/plain": [
       "            metodo  acurárica   bal_acc        f1\n",
       "0    MultinomialNB   0.643893  0.137882  0.134050\n",
       "1    SGDClassifier   0.812393  0.336234  0.359898\n",
       "2  RidgeClassifier   0.850577  0.390959  0.419633"
      ]
     },
     "execution_count": 8,
     "metadata": {},
     "output_type": "execute_result"
    }
   ],
   "source": [
    "rdf"
   ]
  }
 ],
 "metadata": {
  "kernelspec": {
   "display_name": "Python 3",
   "language": "python",
   "name": "python3"
  },
  "language_info": {
   "codemirror_mode": {
    "name": "ipython",
    "version": 3
   },
   "file_extension": ".py",
   "mimetype": "text/x-python",
   "name": "python",
   "nbconvert_exporter": "python",
   "pygments_lexer": "ipython3",
   "version": "3.11.4"
  }
 },
 "nbformat": 4,
 "nbformat_minor": 2
}
